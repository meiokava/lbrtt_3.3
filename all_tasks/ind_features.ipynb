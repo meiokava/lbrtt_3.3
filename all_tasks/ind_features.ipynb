{
 "cells": [
  {
   "cell_type": "markdown",
   "id": "6ee040cc",
   "metadata": {},
   "source": [
    "# Задача:\n",
    "*создать ноутбук, в котором будут приведены собственные примеры на языке Python для каждого из представленных свойств матричных вычислений*"
   ]
  },
  {
   "cell_type": "markdown",
   "id": "f1b6a1db",
   "metadata": {},
   "source": [
    "<font size=\"4\"> 1. Дважды транспонированная матрица равна исходной матрице "
   ]
  },
  {
   "cell_type": "code",
   "execution_count": 23,
   "id": "bc6b7d79",
   "metadata": {},
   "outputs": [
    {
     "name": "stdout",
     "output_type": "stream",
     "text": [
      "[[ 0  1  2  3  5]\n",
      " [ 4  7 12  4  6]\n",
      " [ 8  2 10 11 12]]\n",
      "\n",
      "Транспонированная:\n",
      " [[ 0  4  8]\n",
      " [ 1  7  2]\n",
      " [ 2 12 10]\n",
      " [ 3  4 11]\n",
      " [ 5  6 12]]\n",
      "\n",
      "Транспонированная второй раз:\n",
      " [[ 0  1  2  3  5]\n",
      " [ 4  7 12  4  6]\n",
      " [ 8  2 10 11 12]]\n"
     ]
    }
   ],
   "source": [
    "import numpy as np\n",
    "\n",
    "A = np.matrix('0 1 2 3; 4 7 12 4; 8 2 10 11')\n",
    "print(A)\n",
    "print(\"\\nТранспонированная:\\n\", A.T)\n",
    "R = (A.T).T\n",
    "print(\"\\nТранспонированная второй раз:\\n\", R)"
   ]
  },
  {
   "cell_type": "markdown",
   "id": "37d4c83c",
   "metadata": {},
   "source": [
    "<font size=\"4\"> 2. Транспонирование суммы матриц равно сумме транспонированных матриц"
   ]
  },
  {
   "cell_type": "code",
   "execution_count": 99,
   "id": "7b190e62",
   "metadata": {},
   "outputs": [
    {
     "name": "stdout",
     "output_type": "stream",
     "text": [
      "A:\n",
      "[[11  4]\n",
      " [ 7  2]\n",
      " [ 1  3]],\n",
      "\n",
      " B:\n",
      " [[1 9]\n",
      " [1 5]\n",
      " [2 7]]\n",
      "\n",
      "Транспонирование суммы матриц:\n",
      " [[12  8  3]\n",
      " [13  7 10]]\n",
      "\n",
      "Сумма транспонированных матриц:\n",
      " [[12  8  3]\n",
      " [13  7 10]]\n"
     ]
    }
   ],
   "source": [
    "A = np.matrix('11 4; 7 2; 1 3')\n",
    "B = np.matrix('1 9; 1 5; 2 7')\n",
    "print(f'A:\\n{A},\\n\\n B:\\n {B}')\n",
    "\n",
    "C = (A + B).T\n",
    "print(\"\\nТранспонирование суммы матриц:\\n\", C)\n",
    "\n",
    "D = A.T + B.T\n",
    "print(\"\\nСумма транспонированных матриц:\\n\", D)"
   ]
  },
  {
   "cell_type": "markdown",
   "id": "651bf377",
   "metadata": {},
   "source": [
    "<font size=\"4\"> 3. Транспонирование произведения матриц равно произведению транспонированных матриц раставленных в обратном порядке"
   ]
  },
  {
   "cell_type": "code",
   "execution_count": 100,
   "id": "fbea5eb4",
   "metadata": {},
   "outputs": [
    {
     "name": "stdout",
     "output_type": "stream",
     "text": [
      "A:\n",
      "[[3 1]\n",
      " [5 6]\n",
      " [3 1]],\n",
      "\n",
      " B:\n",
      " [[ 7  3  2]\n",
      " [ 1 12 11]]\n",
      "\n",
      "Транспонирование произведения матриц:\n",
      " [[22 41 22]\n",
      " [21 87 21]\n",
      " [17 76 17]]\n",
      "\n",
      "Произведение транспонированных матриц:\n",
      " [[22 41 22]\n",
      " [21 87 21]\n",
      " [17 76 17]]\n"
     ]
    }
   ],
   "source": [
    "A = np.matrix('3 1; 5 6; 3 1')\n",
    "B = np.matrix('7 3 2; 1 12 11')\n",
    "print(f'A:\\n{A},\\n\\n B:\\n {B}')\n",
    "\n",
    "C = (A.dot(B)).T\n",
    "print(\"\\nТранспонирование произведения матриц:\\n\", C)\n",
    "\n",
    "D = (B.T).dot(A.T)\n",
    "print(\"\\nПроизведение транспонированных матриц:\\n\", D)"
   ]
  },
  {
   "cell_type": "markdown",
   "id": "38fa8a6d",
   "metadata": {},
   "source": [
    "<font size=\"4\"> 4.Транспонирование произведения матрицы на число равно произведению этого числа на транспонированную матрицу"
   ]
  },
  {
   "cell_type": "code",
   "execution_count": 101,
   "id": "c37c5d98",
   "metadata": {},
   "outputs": [
    {
     "name": "stdout",
     "output_type": "stream",
     "text": [
      "A:\n",
      "[[3 1]\n",
      " [5 6]\n",
      " [3 1]],\n",
      "\n",
      " k:\n",
      " 5\n",
      "\n",
      "Транспонирование произведения матрицы на число:\n",
      " [[15 25 15]\n",
      " [ 5 30  5]]\n",
      "\n",
      "Произведение числа на транспонированную матрицу:\n",
      " [[15 25 15]\n",
      " [ 5 30  5]]\n"
     ]
    }
   ],
   "source": [
    "k = 5\n",
    "print(f'A:\\n{A},\\n\\n k:\\n {k}')\n",
    "\n",
    "N =  (k * A).T\n",
    "print(\"\\nТранспонирование произведения матрицы на число:\\n\", N)\n",
    "\n",
    "\n",
    "D =  k * (A.T)\n",
    "print(\"\\nПроизведение числа на транспонированную матрицу:\\n\", D)"
   ]
  },
  {
   "cell_type": "markdown",
   "id": "cc1782c7",
   "metadata": {},
   "source": [
    "<font size=\"4\"> 5.Определители исходной и транспонированной матрицы совпадают: "
   ]
  },
  {
   "cell_type": "code",
   "execution_count": 102,
   "id": "e6e19cb6",
   "metadata": {},
   "outputs": [
    {
     "name": "stdout",
     "output_type": "stream",
     "text": [
      "A:\n",
      "[[11  3  5]\n",
      " [ 0  3  1]\n",
      " [13  5  6]]\n",
      "\n",
      "Определитель исходной матрицы: -13\n",
      "\n",
      "Определитель транспонированной матрицы матрицы: -13\n"
     ]
    }
   ],
   "source": [
    "A = np.matrix('11 3 5; 0 3 1; 13 5 6')\n",
    "print(f'A:\\n{A}')\n",
    "\n",
    "A_det = np.linalg.det(A)\n",
    "print(f\"\\nОпределитель исходной матрицы: {format(A_det, '.9g')}\")\n",
    "\n",
    "A_T_det = np.linalg.det(A.T)\n",
    "print(f\"\\nОпределитель транспонированной матрицы матрицы: {format(A_T_det, '.9g')}\")"
   ]
  },
  {
   "cell_type": "markdown",
   "id": "14bb028e",
   "metadata": {},
   "source": [
    "<font size=\"5\"> Действия над матрицами\n",
    "\n",
    "<font size=\"3\"> Умножение матрицы на число\n",
    "\n",
    "<font size=\"4\">  1. Произведение единицы и любой заданной матрицы равно заданной матрице: "
   ]
  },
  {
   "cell_type": "code",
   "execution_count": 103,
   "id": "0772531d",
   "metadata": {},
   "outputs": [
    {
     "name": "stdout",
     "output_type": "stream",
     "text": [
      "A:\n",
      "[[3 1]\n",
      " [2 6]]\n",
      "\n",
      "Произведение единицы и матрицы:\n",
      " [[3 1]\n",
      " [2 6]]\n"
     ]
    }
   ],
   "source": [
    "A = np.matrix('3 1; 2 6')\n",
    "print(f\"A:\\n{A}\")\n",
    "\n",
    "N = 1 * A\n",
    "print(\"\\nПроизведение единицы и матрицы:\\n\", N)"
   ]
  },
  {
   "cell_type": "markdown",
   "id": "74b9bf80",
   "metadata": {},
   "source": [
    "<font size=\"4\">  2. Произведение нуля и любой матрицы равно нулевой матрице, размерность которой равна исходной матрицы:"
   ]
  },
  {
   "cell_type": "code",
   "execution_count": 104,
   "id": "37c2e324",
   "metadata": {},
   "outputs": [
    {
     "name": "stdout",
     "output_type": "stream",
     "text": [
      "Нулевая матрица:\n",
      "[[0 0 0]\n",
      " [0 0 0]\n",
      " [0 0 0]]\n",
      "\n",
      "Произведение матрицы на 0:\n",
      "[[0 0]\n",
      " [0 0]]\n"
     ]
    }
   ],
   "source": [
    "Zero = np.matrix('0 0 0; 0 0 0; 0 0 0')\n",
    "P = 0 * A\n",
    "print(f\"Нулевая матрица:\\n{Zero}\")\n",
    "print(f\"\\nПроизведение матрицы на 0:\\n{P}\")"
   ]
  },
  {
   "cell_type": "markdown",
   "id": "ac22e858",
   "metadata": {},
   "source": [
    "<font size=\"4\">  3. Произведение матрицы на сумму чисел равно сумме произведений матрицы на каждое из этих чисел:"
   ]
  },
  {
   "cell_type": "code",
   "execution_count": 105,
   "id": "e01ad194",
   "metadata": {},
   "outputs": [
    {
     "name": "stdout",
     "output_type": "stream",
     "text": [
      "A:\n",
      "[[13  2  6]\n",
      " [ 7  5  1]]\n",
      "\n",
      "Произведение матрицы на сумму чисел:\n",
      "[[117  18  54]\n",
      " [ 63  45   9]]\n",
      "\n",
      "Произведений матрицы на каждое из этих чисел:\n",
      "[[117  18  54]\n",
      " [ 63  45   9]]\n"
     ]
    }
   ],
   "source": [
    "A = np.matrix('13 2 6; 7 5 1')\n",
    "\n",
    "print(f\"A:\\n{A}\")\n",
    "N = (8 + 1) * A\n",
    "\n",
    "print(f\"\\nПроизведение матрицы на сумму чисел:\\n{N}\")\n",
    "D = 8 * A + 1 * A\n",
    "print(f\"\\nПроизведений матрицы на каждое из этих чисел:\\n{D}\")"
   ]
  },
  {
   "cell_type": "markdown",
   "id": "e8cc7413",
   "metadata": {},
   "source": [
    "<font size=\"4\">  4. Произведение матрицы на произведение двух чисел равно произведению второго числа и заданной матрицы, умноженному на первое число:"
   ]
  },
  {
   "cell_type": "code",
   "execution_count": 106,
   "id": "cad9f4a3",
   "metadata": {},
   "outputs": [
    {
     "name": "stdout",
     "output_type": "stream",
     "text": [
      "A:\n",
      "[[ 8  1  5]\n",
      " [ 7  7  1]\n",
      " [ 0  9 18]]\n",
      "\n",
      "Произведение матрицы на произведение чисел:\n",
      "[[120  15  75]\n",
      " [105 105  15]\n",
      " [  0 135 270]]\n",
      "\n",
      "Произведений второго числа и заданной матрицы, умноженному на первое число:\n",
      " [[120  15  75]\n",
      " [105 105  15]\n",
      " [  0 135 270]]\n"
     ]
    }
   ],
   "source": [
    "A = np.matrix('8 1 5; 7 7 1; 0 9 18')\n",
    "\n",
    "print(f\"A:\\n{A}\")\n",
    "N = (5 * 3) * A\n",
    "print(f\"\\nПроизведение матрицы на произведение чисел:\\n{N}\")\n",
    "\n",
    "D = 5 * (3 * A)\n",
    "print(f\"\\nПроизведений второго числа и заданной матрицы, умноженному на первое число:\\n {D}\")"
   ]
  },
  {
   "cell_type": "markdown",
   "id": "67f0d547",
   "metadata": {},
   "source": [
    "<font size=\"4\">  5. Произведение суммы матриц на число равно сумме произведений этих матриц на заданное число:"
   ]
  },
  {
   "cell_type": "code",
   "execution_count": 107,
   "id": "98534f23",
   "metadata": {},
   "outputs": [
    {
     "name": "stdout",
     "output_type": "stream",
     "text": [
      "A:\n",
      "[[0 9 1]\n",
      " [3 5 2]\n",
      " [7 9 5]],\n",
      "\n",
      " B:\n",
      "[[10  2  5]\n",
      " [ 1  4  5]\n",
      " [14  1  6]]\n",
      "\n",
      "Произведение суммы матриц на число:\n",
      "[[ 50  55  30]\n",
      " [ 20  45  35]\n",
      " [105  50  55]]\n",
      "\n",
      "Cуммa произведений этих матриц на заданное число:\n",
      "[[ 50  55  30]\n",
      " [ 20  45  35]\n",
      " [105  50  55]]\n"
     ]
    }
   ],
   "source": [
    "A = np.matrix('0 9 1; 3 5 2; 7 9 5')\n",
    "B = np.matrix('10 2 5; 1 4 5; 14 1 6')\n",
    "k = 5\n",
    "\n",
    "print(f\"A:\\n{A},\\n\\n B:\\n{B}\")\n",
    "\n",
    "\n",
    "N = k * (A + B)\n",
    "print(f\"\\nПроизведение суммы матриц на число:\\n{N}\")\n",
    "\n",
    "\n",
    "D = k * A + k * B\n",
    "print(f\"\\nCуммa произведений этих матриц на заданное число:\\n{D}\")"
   ]
  },
  {
   "cell_type": "markdown",
   "id": "6fa560df",
   "metadata": {},
   "source": [
    "<font size=\"5\">  Сложение матриц\n",
    "\n",
    "<font size=\"4\"> 1. Коммутативность сложения. От перестановки матриц их сумма не изменяется:"
   ]
  },
  {
   "cell_type": "code",
   "execution_count": 108,
   "id": "84e74ffc",
   "metadata": {},
   "outputs": [
    {
     "name": "stdout",
     "output_type": "stream",
     "text": [
      "A:\n",
      "[[14  3]\n",
      " [ 7  8]\n",
      " [ 0  9]],\n",
      "\n",
      " B:\n",
      "[[ 1  9]\n",
      " [10  5]\n",
      " [12  7]]\n",
      "\n",
      "A + B:\n",
      " [[15 12]\n",
      " [17 13]\n",
      " [12 16]]\n",
      "\n",
      "B + A:\n",
      " [[15 12]\n",
      " [17 13]\n",
      " [12 16]]\n"
     ]
    }
   ],
   "source": [
    "A = np.matrix('14 3; 7 8; 0 9')\n",
    "B = np.matrix('1 9; 10 5; 12 7')\n",
    "print(f\"A:\\n{A},\\n\\n B:\\n{B}\")\n",
    "\n",
    "N = A + B\n",
    "print(f\"\\nA + B:\\n {N}\")\n",
    "\n",
    "D = B + A\n",
    "print(f\"\\nB + A:\\n {D}\")"
   ]
  },
  {
   "cell_type": "markdown",
   "id": "5eb2971d",
   "metadata": {},
   "source": [
    "<font size=\"4\"> 2.  Ассоциативность сложения. Результат сложения трех и более матриц не зависит от порядка, в котором эта операция будет выполняться:"
   ]
  },
  {
   "cell_type": "code",
   "execution_count": 111,
   "id": "c0b991d9",
   "metadata": {},
   "outputs": [
    {
     "name": "stdout",
     "output_type": "stream",
     "text": [
      "A:\n",
      "[[1 4 5]\n",
      " [9 8 2]],\n",
      "\n",
      " B:\n",
      "[[3 4 6]\n",
      " [7 1 1]],\n",
      "\n",
      " C:\n",
      "[[9 1 7]\n",
      " [3 4 3]]\n",
      "\n",
      "A + (B + C):\n",
      " [[13  9 18]\n",
      " [19 13  6]]\n",
      "\n",
      "(A + B) + C:\n",
      " [[13  9 18]\n",
      " [19 13  6]]\n"
     ]
    }
   ],
   "source": [
    "A = np.matrix('1 4 5; 9 8 2')\n",
    "B = np.matrix('3 4 6; 7 1 1')\n",
    "C = np.matrix('9 1 7; 3 4 3')\n",
    "print(f\"A:\\n{A},\\n\\n B:\\n{B},\\n\\n C:\\n{C}\")\n",
    "\n",
    "N = A + (B + C)\n",
    "print(f\"\\nA + (B + C):\\n {N}\")\n",
    "D = (A + B) + C\n",
    "print(f\"\\n(A + B) + C:\\n {D}\")"
   ]
  },
  {
   "cell_type": "markdown",
   "id": "9c8c7f63",
   "metadata": {},
   "source": [
    "<font size=\"4\"> 3. Для любой матрицы существует противоположная ей , такая, что их сумма является нулевой матрицей:"
   ]
  },
  {
   "cell_type": "code",
   "execution_count": 112,
   "id": "cc1216c8",
   "metadata": {},
   "outputs": [
    {
     "name": "stdout",
     "output_type": "stream",
     "text": [
      "A:\n",
      "[[8 4 3]\n",
      " [2 1 3]\n",
      " [9 3 1]]\n",
      "\n",
      "-A:\n",
      "[[-8 -4 -3]\n",
      " [-2 -1 -3]\n",
      " [-9 -3 -1]]\n",
      "\n",
      "Сумма:\n",
      " [[0 0 0]\n",
      " [0 0 0]\n",
      " [0 0 0]]\n"
     ]
    }
   ],
   "source": [
    "A = np.matrix('8 4 3; 2 1 3; 9 3 1')\n",
    "print(f\"A:\\n{A}\")\n",
    "print(f\"\\n-A:\\n{A * (-1)}\")\n",
    "\n",
    "N = A + (-1)*A\n",
    "print(f\"\\nСумма:\\n {N}\")"
   ]
  },
  {
   "cell_type": "markdown",
   "id": "32e02675",
   "metadata": {},
   "source": [
    "<font size=\"5\"> Умножение матриц\n",
    "\n",
    "<font size=\"4\"> 1. Ассоциативность умножения. Результат умножения матриц не зависит от порядка, в котором будет выполняться эта операция:"
   ]
  },
  {
   "cell_type": "code",
   "execution_count": 113,
   "id": "120759a2",
   "metadata": {},
   "outputs": [
    {
     "name": "stdout",
     "output_type": "stream",
     "text": [
      "A:\n",
      "[[4 3]\n",
      " [6 2]],\n",
      "\n",
      "B:\n",
      "[[1 7]\n",
      " [8 3]],\n",
      "\n",
      "C:\n",
      "[[6 1]\n",
      " [3 1]]\n",
      "\n",
      "A * (B*C):\n",
      "[[279  65]\n",
      " [276  70]]\n",
      "\n",
      "(A*B) * C:\n",
      "[[279  65]\n",
      " [276  70]]\n"
     ]
    }
   ],
   "source": [
    "A = np.matrix('4 3; 6 2')\n",
    "B = np.matrix('1 7; 8 3')\n",
    "C = np.matrix('6 1; 3 1')\n",
    "print(f\"A:\\n{A},\\n\\nB:\\n{B},\\n\\nC:\\n{C}\")\n",
    "\n",
    "N = A.dot(B.dot(C))\n",
    "print(f\"\\nA * (B*C):\\n{N}\")\n",
    "\n",
    "D = (A.dot(B)).dot(C)\n",
    "print(f\"\\n(A*B) * C:\\n{D}\")"
   ]
  },
  {
   "cell_type": "markdown",
   "id": "ed4e60cc",
   "metadata": {},
   "source": [
    "<font size=\"4\"> 2. Дистрибутивность умножения. Произведение матрицы на сумму матриц равно сумме произведений матриц:"
   ]
  },
  {
   "cell_type": "code",
   "execution_count": 114,
   "id": "e5c92f63",
   "metadata": {},
   "outputs": [
    {
     "name": "stdout",
     "output_type": "stream",
     "text": [
      "A:\n",
      "[[0 2 1]\n",
      " [9 9 2]\n",
      " [5 6 1]],\n",
      "\n",
      "B:\n",
      "[[4 7 6]\n",
      " [7 2 1]\n",
      " [2 1 8]],\n",
      "\n",
      "C:\n",
      "[[9 1 7]\n",
      " [9 9 3]\n",
      " [5 6 1]]\n",
      "\n",
      "A * (B+C):\n",
      "[[ 39  29  17]\n",
      " [275 185 171]\n",
      " [168 113  98]]\n",
      "\n",
      "A*B + A*C):\n",
      "[[ 39  29  17]\n",
      " [275 185 171]\n",
      " [168 113  98]]\n"
     ]
    }
   ],
   "source": [
    "A = np.matrix('0 2 1; 9 9 2; 5 6 1')\n",
    "B = np.matrix('4 7 6; 7 2 1; 2 1 8')\n",
    "C = np.matrix('9 1 7; 9 9 3; 5 6 1')\n",
    "print(f\"A:\\n{A},\\n\\nB:\\n{B},\\n\\nC:\\n{C}\")\n",
    "\n",
    "N = A.dot(B + C)\n",
    "print(f\"\\nA * (B+C):\\n{N}\")\n",
    "\n",
    "D = A.dot(B) + A.dot(C)\n",
    "print(f\"\\nA*B + A*C):\\n{D}\")"
   ]
  },
  {
   "cell_type": "markdown",
   "id": "ec5cafd9",
   "metadata": {},
   "source": [
    "<font size=\"4\"> 3. Умножение матриц в общем виде не коммутативно. Это означает, что для матриц не выполняется правило независимости произведения от перестановки множителей:"
   ]
  },
  {
   "cell_type": "code",
   "execution_count": 115,
   "id": "ee558441",
   "metadata": {},
   "outputs": [
    {
     "name": "stdout",
     "output_type": "stream",
     "text": [
      "A:\n",
      "[[2 9]\n",
      " [8 5]],\n",
      "\n",
      "B:\n",
      "[[5 8]\n",
      " [1 3]]\n",
      "\n",
      "A * B:\n",
      "[[19 43]\n",
      " [45 79]]\n",
      "\n",
      "B * A:\n",
      "[[74 85]\n",
      " [26 24]]\n"
     ]
    }
   ],
   "source": [
    "A = np.matrix('2 9; 8 5')\n",
    "B = np.matrix('5 8; 1 3')\n",
    "print(f\"A:\\n{A},\\n\\nB:\\n{B}\")\n",
    "      \n",
    "\n",
    "N = A.dot(B)\n",
    "print(f\"\\nA * B:\\n{N}\")\n",
    "\n",
    "D = B.dot(A)\n",
    "print(f\"\\nB * A:\\n{D}\")"
   ]
  },
  {
   "cell_type": "markdown",
   "id": "6fb1dd2d",
   "metadata": {},
   "source": [
    "<font size=\"4\"> 4. Произведение заданной матрицы на единичную равно исходной матрице:"
   ]
  },
  {
   "cell_type": "code",
   "execution_count": 118,
   "id": "72de154a",
   "metadata": {},
   "outputs": [
    {
     "name": "stdout",
     "output_type": "stream",
     "text": [
      "A:\n",
      "[[1 4 7]\n",
      " [7 9 2]\n",
      " [5 6 1]]\n",
      "\n",
      "E*A:\n",
      "[[1. 4. 7.]\n",
      " [7. 9. 2.]\n",
      " [5. 6. 1.]]\n",
      "\n",
      "A*E:\n",
      "[[1. 4. 7.]\n",
      " [7. 9. 2.]\n",
      " [5. 6. 1.]]\n"
     ]
    }
   ],
   "source": [
    "A = np.matrix('1 4 7; 7 9 2; 5 6 1')\n",
    "J = np.eye(3)\n",
    "print(f\"A:\\n{A}\")\n",
    "\n",
    "N = J.dot(A)\n",
    "print(f\"\\nE*A:\\n{N}\")\n",
    "\n",
    "D = A.dot(J)\n",
    "print(f\"\\nA*E:\\n{D}\")"
   ]
  },
  {
   "cell_type": "markdown",
   "id": "796204b1",
   "metadata": {},
   "source": [
    "<font size=\"4\"> 5. Произведение заданной матрицы на нулевую матрицу равно нулевой матрице:"
   ]
  },
  {
   "cell_type": "code",
   "execution_count": 121,
   "id": "6fe3137f",
   "metadata": {},
   "outputs": [
    {
     "name": "stdout",
     "output_type": "stream",
     "text": [
      "A:\n",
      "[[1 2 1]\n",
      " [9 9 2]\n",
      " [5 6 1]]\n",
      "\n",
      "Z*A:\n",
      "[[0. 0. 0.]\n",
      " [0. 0. 0.]\n",
      " [0. 0. 0.]]\n",
      "\n",
      "A*Z:\n",
      "[[0. 0. 0.]\n",
      " [0. 0. 0.]\n",
      " [0. 0. 0.]]\n"
     ]
    }
   ],
   "source": [
    "A = np.matrix('1 2 1; 9 9 2; 5 6 1')\n",
    "J = np.zeros((3, 3))\n",
    "print(f\"A:\\n{A}\")\n",
    "\n",
    "N = J.dot(A)\n",
    "print(f\"\\nZ*A:\\n{N}\")\n",
    "\n",
    "D = A.dot(J)\n",
    "print(f\"\\nA*Z:\\n{D}\")"
   ]
  },
  {
   "cell_type": "markdown",
   "id": "be01f87c",
   "metadata": {},
   "source": [
    "<font size=\"5\"> Определитель матрицы\n",
    "\n",
    "<font size=\"4\"> 1. Определитель матрицы остается неизменным при ее транспонировании:"
   ]
  },
  {
   "cell_type": "code",
   "execution_count": 123,
   "id": "b1d9297b",
   "metadata": {},
   "outputs": [
    {
     "name": "stdout",
     "output_type": "stream",
     "text": [
      "A:\n",
      "[[6 1 7]\n",
      " [2 6 3]\n",
      " [5 6 1]]\n",
      "\n",
      "|A| = -185.0\n",
      "\n",
      "A(T):\n",
      "[[6 2 5]\n",
      " [1 6 6]\n",
      " [7 3 1]]\n",
      "\n",
      "|A(T)| = -185.0\n"
     ]
    }
   ],
   "source": [
    "A = np.matrix('6 1 7; 2 6 3; 5 6 1')\n",
    "print(f\"A:\\n{A}\\n\")\n",
    "\n",
    "det_A = round(np.linalg.det(A), 2)\n",
    "print(f\"|A| = {det_A}\\n\")\n",
    "print(f\"A(T):\\n{A.T}\\n\")\n",
    "\n",
    "det_A_t = round(np.linalg.det(A.T), 2)\n",
    "print(f\"|A(T)| = {det_A_t}\")"
   ]
  },
  {
   "cell_type": "markdown",
   "id": "a8fe4f5a",
   "metadata": {},
   "source": [
    "<font size=\"4\"> 2. Если у матрицы есть строка или столбец, состоящие из нулей, то определитель такой матрицы равен нулю:"
   ]
  },
  {
   "cell_type": "code",
   "execution_count": 125,
   "id": "8a526983",
   "metadata": {},
   "outputs": [
    {
     "name": "stdout",
     "output_type": "stream",
     "text": [
      "A:\n",
      "[[5 7 2]\n",
      " [9 0 3]\n",
      " [5 2 1]]\n",
      "\n",
      "|A| = 48.0\n",
      "\n",
      "A:\n",
      "[[0 2 7]\n",
      " [0 5 3]\n",
      " [2 6 1]]\n",
      "\n",
      "|A| = -58.0\n",
      "\n",
      "A:\n",
      "[[9 1 7]\n",
      " [6 6 3]\n",
      " [1 1 1]]\n",
      "\n",
      "|A| = 24.0\n",
      "\n"
     ]
    }
   ],
   "source": [
    "A = np.matrix('5 7 2; 9 0 3; 5 2 1')\n",
    "print(f\"A:\\n{A}\\n\")\n",
    "\n",
    "det_A = round(np.linalg.det(A), 2)\n",
    "print(f\"|A| = {det_A}\\n\")\n",
    "\n",
    "A = np.matrix('0 2 7; 0 5 3; 2 6 1')\n",
    "print(f\"A:\\n{A}\\n\")\n",
    "\n",
    "det_A = round(np.linalg.det(A), 2)\n",
    "print(f\"|A| = {det_A}\\n\")\n",
    "\n",
    "A = np.matrix('9 1 7; 6 6 3; 1 1 1')\n",
    "print(f\"A:\\n{A}\\n\")\n",
    "\n",
    "det_A = round(np.linalg.det(A), 2)\n",
    "print(f\"|A| = {det_A}\\n\")"
   ]
  },
  {
   "cell_type": "markdown",
   "id": "ba691f64",
   "metadata": {},
   "source": [
    "<font size=\"4\"> 3. При перестановке строк матрицы знак ее определителя меняется на противоположный:"
   ]
  },
  {
   "cell_type": "code",
   "execution_count": 129,
   "id": "abb4ac2a",
   "metadata": {},
   "outputs": [
    {
     "name": "stdout",
     "output_type": "stream",
     "text": [
      "A:\n",
      "[[7 8 7]\n",
      " [5 4 3]\n",
      " [5 6 1]]\n",
      "\n",
      "|A| = 52.0\n",
      "\n",
      "B:\n",
      "[[5 6 5]\n",
      " [5 1 1]\n",
      " [5 6 3]]\n",
      "\n",
      "|B| = 50.0\n",
      "\n"
     ]
    }
   ],
   "source": [
    "A = np.matrix('7 8 7; 5 4 3; 5 6 1')\n",
    "print(f\"A:\\n{A}\\n\")\n",
    "\n",
    "det_A = round(np.linalg.det(A), 2)\n",
    "print(f\"|A| = {det_A}\\n\")\n",
    "\n",
    "B = np.matrix('5 6 5; 5 1 1; 5 6 3')\n",
    "print(f\"B:\\n{B}\\n\")\n",
    "\n",
    "det_B = round(np.linalg.det(B), 2)\n",
    "print(f\"|B| = {det_B}\\n\")"
   ]
  },
  {
   "cell_type": "markdown",
   "id": "2e374232",
   "metadata": {},
   "source": [
    "<font size=\"4\"> 4. Если у матрицы есть две одинаковые строки, то ее определитель равен нулю:"
   ]
  },
  {
   "cell_type": "code",
   "execution_count": 130,
   "id": "3af7c460",
   "metadata": {},
   "outputs": [
    {
     "name": "stdout",
     "output_type": "stream",
     "text": [
      "A:\n",
      "[[4 5 4]\n",
      " [9 5 3]\n",
      " [5 1 1]]\n",
      "\n",
      "|A| = -26.0\n",
      "\n",
      "A:\n",
      "[[9 1 8]\n",
      " [5 3 1]\n",
      " [5 2 1]]\n",
      "\n",
      "|A| = -31.0\n",
      "\n"
     ]
    }
   ],
   "source": [
    "A = np.matrix('4 5 4; 9 5 3; 5 1 1')\n",
    "print(f\"A:\\n{A}\\n\")\n",
    "\n",
    "det_A = round(np.linalg.det(A), 2)\n",
    "print(f\"|A| = {det_A}\\n\")\n",
    "\n",
    "A = np.matrix('9 1 8; 5 3 1; 5 2 1')\n",
    "print(f\"A:\\n{A}\\n\")\n",
    "\n",
    "det_A = round(np.linalg.det(A), 2)\n",
    "print(f\"|A| = {det_A}\\n\")"
   ]
  },
  {
   "cell_type": "markdown",
   "id": "ed54be90",
   "metadata": {},
   "source": [
    "<font size=\"4\"> 5. Если все элементы строки или столбца матрицы умножить на какое-то число, то и определитель будет умножен на это число:"
   ]
  },
  {
   "cell_type": "code",
   "execution_count": 131,
   "id": "196f578d",
   "metadata": {},
   "outputs": [
    {
     "name": "stdout",
     "output_type": "stream",
     "text": [
      "A:\n",
      "[[3 1 5]\n",
      " [8 6 3]\n",
      " [5 2 1]]\n",
      "\n",
      "|A| = -63.0\n",
      "|A| * k = -315.0\n",
      "\n",
      "B:\n",
      "[[ 3  1  5]\n",
      " [ 8  6  3]\n",
      " [25 10  5]]\n",
      "\n",
      "|B| = -315.0\n",
      "\n"
     ]
    }
   ],
   "source": [
    "A = np.matrix('3 1 5; 8 6 3; 5 2 1')\n",
    "k = 5\n",
    "\n",
    "print(f\"A:\\n{A}\\n\")\n",
    "det_A = round(np.linalg.det(A), 2)\n",
    "print(f\"|A| = {det_A}\")\n",
    "print(f\"|A| * k = {det_A * k}\\n\")\n",
    "\n",
    "B = A.copy()\n",
    "B[2, :] = k * B[2, :]\n",
    "print(f\"B:\\n{B}\\n\")\n",
    "\n",
    "det_B = round(np.linalg.det(B), 2)\n",
    "print(f\"|B| = {det_B}\\n\")"
   ]
  },
  {
   "cell_type": "markdown",
   "id": "e807f7c4",
   "metadata": {},
   "source": [
    "<font size=\"4\"> 6.  Если все элементы строки или столбца можно представить как сумму двух слагаемых, то определитель такой матрицы равен сумме определителей двух соответствующих матриц:"
   ]
  },
  {
   "cell_type": "code",
   "execution_count": 134,
   "id": "b11e0725",
   "metadata": {},
   "outputs": [
    {
     "name": "stdout",
     "output_type": "stream",
     "text": [
      "C\n",
      "[[-3 -1  2]\n",
      " [-1  0  4]\n",
      " [ 8  3  1]]\n",
      "A\n",
      "[[-3 -1  2]\n",
      " [-9 -2  2]\n",
      " [ 8  3  1]]\n",
      "B\n",
      "[[-6 -1  9]\n",
      " [ 8  2  2]\n",
      " [ 8  3  1]]\n",
      "\n",
      "|C|\n",
      "-3.0\n",
      "\n",
      "|A| + |B|\n",
      "65.0\n"
     ]
    }
   ],
   "source": [
    "A = np.matrix('-3 -1 2; -9 -2 2; 8 3 1')\n",
    "B = np.matrix('-6 -1 9; 8 2 2; 8 3 1')\n",
    "C = A.copy()\n",
    "C[1, :] += B[1, :]\n",
    "print(f'C\\n{C}')\n",
    "print(f'A\\n{A}')\n",
    "print(f'B\\n{B}')\n",
    "print(\"\\n|C|\")\n",
    "print(round(np.linalg.det(C), 3))\n",
    "print(\"\\n|A| + |B|\")\n",
    "print(round(np.linalg.det(A), 3) + round(np.linalg.det(B), 3))"
   ]
  },
  {
   "cell_type": "markdown",
   "id": "c11542cc",
   "metadata": {},
   "source": [
    "<font size=\"4\"> 7.  Если к элементам одной строки прибавить элементы другой строки, умноженные на одно и тоже число, то определитель матрицы не изменится:"
   ]
  },
  {
   "cell_type": "code",
   "execution_count": 135,
   "id": "f39ce80a",
   "metadata": {},
   "outputs": [
    {
     "name": "stdout",
     "output_type": "stream",
     "text": [
      "\n",
      "A:\n",
      "[[5 5 1]\n",
      " [9 3 3]\n",
      " [6 6 1]]\n",
      "\n",
      "B:\n",
      "[[ 5  5  1]\n",
      " [34 28  8]\n",
      " [ 6  6  1]]\n",
      "\n",
      "|A|\n",
      "6.0\n",
      "\n",
      "|B|\n",
      "6.0\n"
     ]
    }
   ],
   "source": [
    "A = np.matrix('5 5 1; 9 3 3; 6 6 1')\n",
    "k = 5\n",
    "\n",
    "B = A.copy()\n",
    "B[1, :] = B[1, :] + k * B[0, :]\n",
    "\n",
    "print(f\"\\nA:\\n{A}\")\n",
    "print(f\"\\nB:\\n{B}\")\n",
    "\n",
    "print(\"\\n|A|\")\n",
    "print(round(np.linalg.det(A), 2))\n",
    "\n",
    "print(\"\\n|B|\")\n",
    "print(round(np.linalg.det(B), 2))"
   ]
  },
  {
   "cell_type": "markdown",
   "id": "a075de5e",
   "metadata": {},
   "source": [
    "<font size=\"4\"> 8. Если строка или столбец матрицы является линейной комбинацией других строк (столбцов), то определитель такой матрицы равен нулю"
   ]
  },
  {
   "cell_type": "code",
   "execution_count": 136,
   "id": "4d7e2acd",
   "metadata": {},
   "outputs": [
    {
     "name": "stdout",
     "output_type": "stream",
     "text": [
      "\n",
      "A:\n",
      "[[5 5 1]\n",
      " [9 3 3]\n",
      " [6 6 1]]\n",
      "\n",
      "|A|\n",
      "-0.0\n"
     ]
    }
   ],
   "source": [
    "A = np.matrix('5 5 1; 9 3 3; 6 6 1')\n",
    "k = 5\n",
    "print(f\"\\nA:\\n{A}\")\n",
    "\n",
    "A[1, :] = A[0, :] + k * A[2, :]\n",
    "print(\"\\n|A|\")\n",
    "print(round(np.linalg.det(A), 3))"
   ]
  },
  {
   "cell_type": "markdown",
   "id": "d9c45307",
   "metadata": {},
   "source": [
    "<font size=\"4\"> 9. Если матрица содержит пропорциональные строки, то ее определитель равен нулю:"
   ]
  },
  {
   "cell_type": "code",
   "execution_count": 137,
   "id": "6fca5807",
   "metadata": {},
   "outputs": [
    {
     "name": "stdout",
     "output_type": "stream",
     "text": [
      "\n",
      "A:\n",
      "[[5 5 1]\n",
      " [9 3 3]\n",
      " [6 6 1]]\n",
      "6.0\n",
      "\n",
      "new A:\n",
      "[[ 5  5  1]\n",
      " [25 25  5]\n",
      " [ 6  6  1]]\n",
      "-0.0\n"
     ]
    }
   ],
   "source": [
    "A = np.matrix('5 5 1; 9 3 3; 6 6 1')\n",
    "k = 5\n",
    "print(f\"\\nA:\\n{A}\")\n",
    "print(round(np.linalg.det(A), 3))\n",
    "\n",
    "A[1, :] = k * A[0, :]\n",
    "print(f\"\\nnew A:\\n{A}\")\n",
    "print(round(np.linalg.det(A), 3))"
   ]
  },
  {
   "cell_type": "markdown",
   "id": "a63258f5",
   "metadata": {},
   "source": [
    "<font size=\"5\"> Обратная матрица\n",
    "\n",
    "<font size=\"4\"> 1. Обратная матрица обратной матрицы есть исходная матрица:"
   ]
  },
  {
   "cell_type": "code",
   "execution_count": 139,
   "id": "1905e9f6",
   "metadata": {},
   "outputs": [
    {
     "name": "stdout",
     "output_type": "stream",
     "text": [
      "\n",
      "A:\n",
      "[[1 2]\n",
      " [4 1]]\n",
      "\n",
      "A_inv:\n",
      "[[-0.14285714  0.28571429]\n",
      " [ 0.57142857 -0.14285714]]\n",
      "\n",
      "A_inv_inv:\n",
      "[[1. 2.]\n",
      " [4. 1.]]\n"
     ]
    }
   ],
   "source": [
    "A = np.matrix('1 2; 4 1')\n",
    "print(f\"\\nA:\\n{A}\")\n",
    "\n",
    "A_inv = np.linalg.inv(A)\n",
    "print(f\"\\nA_inv:\\n{A_inv}\")\n",
    "\n",
    "A_inv_inv = np.linalg.inv(A_inv)\n",
    "print(f\"\\nA_inv_inv:\\n{A_inv_inv}\")"
   ]
  },
  {
   "cell_type": "markdown",
   "id": "1240548a",
   "metadata": {},
   "source": [
    "<font size=\"4\"> 2.  Обратная матрица транспонированной матрицы равна транспонированной матрице от обратной матрицы:"
   ]
  },
  {
   "cell_type": "code",
   "execution_count": 142,
   "id": "c453a3f1",
   "metadata": {},
   "outputs": [
    {
     "name": "stdout",
     "output_type": "stream",
     "text": [
      "Обратная матрица транспонированной матрицы:\n",
      "[[-0.14285714  0.57142857]\n",
      " [ 0.28571429 -0.14285714]]\n",
      "\n",
      "Транспонированная матрица от обратной матрицы:\n",
      "[[-0.14285714  0.57142857]\n",
      " [ 0.28571429 -0.14285714]]\n"
     ]
    }
   ],
   "source": [
    "A = np.matrix('1 2; 4 1')\n",
    "\n",
    "N = np.linalg.inv(A.T)\n",
    "print(f\"Обратная матрица транспонированной матрицы:\\n{N}\")\n",
    "\n",
    "D = (np.linalg.inv(A)).T\n",
    "print(f\"\\nТранспонированная матрица от обратной матрицы:\\n{D}\")"
   ]
  },
  {
   "cell_type": "markdown",
   "id": "e2ca2d33",
   "metadata": {},
   "source": [
    "<font size=\"4\"> 3. Обратная матрица произведения матриц равна произведению обратных матриц:"
   ]
  },
  {
   "cell_type": "code",
   "execution_count": 144,
   "id": "4f6df86d",
   "metadata": {},
   "outputs": [
    {
     "name": "stdout",
     "output_type": "stream",
     "text": [
      "Обратная матрица произведения матриц:\n",
      "[[ 0.08374384 -0.02955665]\n",
      " [-0.04926108  0.04679803]]\n",
      "\n",
      "Произведение обратных матриц:\n",
      "[[ 0.08374384 -0.02955665]\n",
      " [-0.04926108  0.04679803]]\n"
     ]
    }
   ],
   "source": [
    "A = np.matrix('1 2; 4 1')\n",
    "B = np.matrix('3 8; 8 2')\n",
    "\n",
    "\n",
    "N = np.linalg.inv(A.dot(B))\n",
    "print(f\"Обратная матрица произведения матриц:\\n{N}\")\n",
    "\n",
    "D = np.linalg.inv(B).dot(np.linalg.inv(A))\n",
    "print(f\"\\nПроизведение обратных матриц:\\n{D}\")"
   ]
  }
 ],
 "metadata": {
  "kernelspec": {
   "display_name": "Python 3 (ipykernel)",
   "language": "python",
   "name": "python3"
  },
  "language_info": {
   "codemirror_mode": {
    "name": "ipython",
    "version": 3
   },
   "file_extension": ".py",
   "mimetype": "text/x-python",
   "name": "python",
   "nbconvert_exporter": "python",
   "pygments_lexer": "ipython3",
   "version": "3.9.13"
  }
 },
 "nbformat": 4,
 "nbformat_minor": 5
}
