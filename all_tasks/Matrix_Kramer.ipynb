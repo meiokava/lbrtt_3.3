{
 "cells": [
  {
   "cell_type": "markdown",
   "id": "ecacebaf",
   "metadata": {},
   "source": [
    "# Задача:\n",
    "<font size =\"4\"> *Создать ноутбук, в котором будут приведены собственные примеры решения систем линейных уравнений матричным методом и методом Крамера.*\n",
    "    \n",
    "## Решение матричный методом\n",
    "<font size =\"4\">  *решение системы линейных алгебраических уравнений по матричному методу определяется равенством*\n",
    "    $$ X = {A^{-1}} *B$$\n",
    "\n",
    "\n",
    "1. Создание и заполнение матрицы"
   ]
  },
  {
   "cell_type": "code",
   "execution_count": 4,
   "id": "dee70527",
   "metadata": {},
   "outputs": [
    {
     "data": {
      "text/plain": [
       "array([[12, 15, 21,  0,  3],\n",
       "       [ 3,  7,  9, 19, 21],\n",
       "       [18,  4, 23,  6, 24],\n",
       "       [24, 12,  1,  6,  7]])"
      ]
     },
     "execution_count": 4,
     "metadata": {},
     "output_type": "execute_result"
    }
   ],
   "source": [
    "import numpy as np\n",
    "\n",
    "np.random.seed(0)\n",
    "slae = np.random.randint(0, 25, size = (4, 5))\n",
    "slae"
   ]
  },
  {
   "cell_type": "markdown",
   "id": "6d98935b",
   "metadata": {},
   "source": [
    "$$\n",
    "\\begin{cases}\n",
    "    12x_{1} + 15x_{2} + 21x_{3} = 3 \\\\\n",
    "    3x_{1} + 7x_{2} + 9x_{3} + 19x_{4} = 21 \\\\\n",
    "    18x_{1} + 4x_{2} + 23x_{3} + 6x_{4} = 24 \\\\\n",
    "    24x_{1} + 12x_{2} + 1x_{3} + 6x_{4} = 7\n",
    "\\end{cases}\n",
    "$$\n",
    "\n",
    "<font size =\"3\"> 1. Осуществим перевод к матричному виду:"
   ]
  },
  {
   "cell_type": "code",
   "execution_count": 5,
   "id": "fcf30015",
   "metadata": {},
   "outputs": [
    {
     "name": "stdout",
     "output_type": "stream",
     "text": [
      "slae_a\n",
      "[[12 15 21  0]\n",
      " [ 3  7  9 19]\n",
      " [18  4 23  6]\n",
      " [24 12  1  6]]\n",
      "\n",
      "slae_b\n",
      "[ 3 21 24  7]\n"
     ]
    }
   ],
   "source": [
    "slae_a = slae[:, 0:4]\n",
    "slae_b = slae[:, 4]\n",
    "x = np.ones((4, 1))\n",
    "\n",
    "print(f\"slae_a\\n{slae_a}\")\n",
    "print(f\"\\nslae_b\\n{slae_b}\")"
   ]
  },
  {
   "cell_type": "markdown",
   "id": "48804f71",
   "metadata": {},
   "source": [
    "<font size=\"4\"> Получаем\n",
    "$$\n",
    "\\bar{A} =  \n",
    " \\begin{pmatrix} \n",
    "  12 & 15 & 21 & 0 | & 3  \\\\ \n",
    "  3 & 7 & 9 & 19 | & 21 \\\\ \n",
    "  18 & 4 & 23 & 6 | & 24 \\\\\n",
    "  24 & 12 & 1 & 6 | & 7 \\\\\n",
    " \\end{pmatrix}\n",
    " $$"
   ]
  },
  {
   "cell_type": "markdown",
   "id": "e16e7692",
   "metadata": {},
   "source": [
    "\n",
    "\n",
    "<font size =\"4\"> Нужно найти определитель |A|\n",
    "    \n",
    "    \n",
    "<font size =\"3\"> находим его по формуле\n",
    "$$ A^{-1} = E / A $$"
   ]
  },
  {
   "cell_type": "code",
   "execution_count": 9,
   "id": "8e727881",
   "metadata": {},
   "outputs": [
    {
     "name": "stdout",
     "output_type": "stream",
     "text": [
      "Решение:\n",
      "[ 0.46213836 -0.94625293  0.55467303  1.11817359]\n"
     ]
    }
   ],
   "source": [
    "#Нахождение определителя\n",
    "A_deter = np.linalg.det(slae_a)\n",
    "\n",
    "if A_deter != 0:\n",
    "    #Нахождение обратной и присоединенной матриц\n",
    "    A_inv = np.linalg.inv(slae_a)\n",
    "    x = A_inv.dot(slae_b)\n",
    "    print(f\"Решение:\\n{x}\")\n",
    "else:\n",
    "    print(\"Матрица вырожденна\")"
   ]
  },
  {
   "cell_type": "markdown",
   "id": "5e793d0c",
   "metadata": {},
   "source": [
    "# Решение методом Крамера\n",
    "<font size=\"4\">Метод Крамера предназначен для того, чтобы решать системы линейных алгебраических уравнений (СЛАУ), в которых число неизвестных переменных равняется числу уравнений, а определитель основной матрицы не равен нулю.\n",
    "    \n",
    "<font size=\"3\">Создадим и заполним матрицу"
   ]
  },
  {
   "cell_type": "code",
   "execution_count": 10,
   "id": "88b01151",
   "metadata": {},
   "outputs": [
    {
     "data": {
      "text/plain": [
       "array([[12, 15, 21,  0,  3],\n",
       "       [ 3,  7,  9, 19, 21],\n",
       "       [18,  4, 23,  6, 24],\n",
       "       [24, 12,  1,  6,  7]])"
      ]
     },
     "execution_count": 10,
     "metadata": {},
     "output_type": "execute_result"
    }
   ],
   "source": [
    "np.random.seed(0)\n",
    "slae = np.random.randint(0, 25, size = (4, 5))\n",
    "slae"
   ]
  },
  {
   "cell_type": "markdown",
   "id": "d5c6d7e3",
   "metadata": {},
   "source": [
    "<font size=\"3\">Осуществим перевод к матричному виду"
   ]
  },
  {
   "cell_type": "code",
   "execution_count": 17,
   "id": "ec77c003",
   "metadata": {},
   "outputs": [
    {
     "name": "stdout",
     "output_type": "stream",
     "text": [
      "slae_a\n",
      "[[12 15 21  0]\n",
      " [ 3  7  9 19]\n",
      " [18  4 23  6]\n",
      " [24 12  1  6]]\n",
      "\n",
      "slae_b\n",
      "[[ 3.]\n",
      " [21.]\n",
      " [24.]\n",
      " [ 7.]]\n"
     ]
    }
   ],
   "source": [
    "slae_a = slae[:, 0:4]\n",
    "slae_b = np.ones((4, 1))\n",
    "x = np.ones((4, 1))\n",
    "\n",
    "slae_b[0, 0] = slae[0, 4]\n",
    "slae_b[1, 0] = slae[1, 4]\n",
    "slae_b[2, 0] = slae[2, 4]\n",
    "slae_b[3, 0] = slae[3, 4]\n",
    "\n",
    "print(f\"slae_a\\n{slae_a}\")\n",
    "print(f\"\\nslae_b\\n{slae_b}\")"
   ]
  },
  {
   "cell_type": "markdown",
   "id": "f95fd18b",
   "metadata": {},
   "source": [
    "<font size=\"3\">Осуществим нахождение определителя и дополнительных определителей и самого решения по формулам Крамера\n",
    "    $$ x_{1} = \\frac{\\bigtriangleup_{1}}{\\bigtriangleup};\n",
    "    x_{2} = \\frac{\\bigtriangleup_{2}}{\\bigtriangleup};\n",
    "    x_{3} = \\frac{\\bigtriangleup_{3}}{\\bigtriangleup}$$"
   ]
  },
  {
   "cell_type": "code",
   "execution_count": 20,
   "id": "4328de48",
   "metadata": {},
   "outputs": [
    {
     "name": "stdout",
     "output_type": "stream",
     "text": [
      "Решения:\n",
      "[[ 0.46213836]\n",
      " [-0.94625293]\n",
      " [ 0.55467303]\n",
      " [ 1.11817359]]\n",
      "[[ 0.46213836]\n",
      " [-0.94625293]\n",
      " [ 0.55467303]\n",
      " [ 1.11817359]]\n"
     ]
    }
   ],
   "source": [
    "#Нахождения определителя\n",
    "A_deter = np.linalg.det(slae_a)\n",
    "\n",
    "if A_deter != 0:\n",
    "    #Нахождение дополнительных определителей\n",
    "    for i in range(4):\n",
    "        A_extra = slae_a.copy()\n",
    "        A_extra[:, i] = slae_b[:, 0]\n",
    "        x[i,0] = round(np.linalg.det(A_extra), 2) / round(np.linalg.det(slae_a), 2)\n",
    "    print(f\"Решения:\\n{x}\")\n",
    "    print(x)\n",
    "else:\n",
    "    print(\"Матрица вырожденная\")"
   ]
  }
 ],
 "metadata": {
  "kernelspec": {
   "display_name": "Python 3 (ipykernel)",
   "language": "python",
   "name": "python3"
  },
  "language_info": {
   "codemirror_mode": {
    "name": "ipython",
    "version": 3
   },
   "file_extension": ".py",
   "mimetype": "text/x-python",
   "name": "python",
   "nbconvert_exporter": "python",
   "pygments_lexer": "ipython3",
   "version": "3.9.13"
  }
 },
 "nbformat": 4,
 "nbformat_minor": 5
}
